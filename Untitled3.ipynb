{
 "cells": [
  {
   "cell_type": "code",
   "execution_count": 1,
   "id": "0f51265e-d1b2-4f9b-8635-5c79cdbc5eb7",
   "metadata": {},
   "outputs": [],
   "source": [
    "import subprocess"
   ]
  },
  {
   "cell_type": "code",
   "execution_count": 2,
   "id": "20c8c284-3a00-4f99-b9e6-fe576ff2214b",
   "metadata": {},
   "outputs": [
    {
     "name": "stdout",
     "output_type": "stream",
     "text": [
      "total 80\n",
      "drwxrwxr-x 8 evapilotno17 evapilotno17  4096 May  8 02:02 .\n",
      "drwxrwxr-x 8 evapilotno17 evapilotno17  4096 May  6 23:59 ..\n",
      "drwxrwxr-x 2 evapilotno17 evapilotno17  4096 May  8 01:58 .ipynb_checkpoints\n",
      "drwxrwxr-x 2 evapilotno17 evapilotno17  4096 May  8 01:58 keydb\n",
      "drwxrwxr-x 3 evapilotno17 evapilotno17  4096 May  8 01:58 keylogger\n",
      "drwxrwxr-x 2 evapilotno17 evapilotno17  4096 May  7 01:03 linux\n",
      "drwxrwxr-x 2 evapilotno17 evapilotno17  4096 May  6 04:47 macos\n",
      "-rw-rw-r-- 1 evapilotno17 evapilotno17  2009 May  7 01:24 requirements.txt\n",
      "-rw-rw-r-- 1 evapilotno17 evapilotno17  1502 May  6 05:25 Untitled1.ipynb\n",
      "-rw-rw-r-- 1 evapilotno17 evapilotno17  5121 May  8 02:00 Untitled2.ipynb\n",
      "-rw-rw-r-- 1 evapilotno17 evapilotno17   844 May  8 02:02 Untitled3.ipynb\n",
      "-rw-rw-r-- 1 evapilotno17 evapilotno17  5244 May  6 06:00 Untitled.ipynb\n",
      "drwxrwxr-x 7 evapilotno17 evapilotno17  4096 May  6 04:20 venv\n",
      "-rw-rw-r-- 1 evapilotno17 evapilotno17    35 May  6 23:53 vomitignore.txt\n",
      "-rw-rw-r-- 1 evapilotno17 "
     ]
    },
    {
     "data": {
      "text/plain": [
       "CompletedProcess(args=['ls', '-la'], returncode=0)"
      ]
     },
     "execution_count": 2,
     "metadata": {},
     "output_type": "execute_result"
    },
    {
     "name": "stdout",
     "output_type": "stream",
     "text": [
      "evapilotno17 14048 May  6 23:53 vomit.txt\n"
     ]
    }
   ],
   "source": [
    "subprocess.run([\"ls\", \"-la\"])"
   ]
  },
  {
   "cell_type": "code",
   "execution_count": 3,
   "id": "151665cf-6fc0-42c1-8039-97d1d1816a3b",
   "metadata": {},
   "outputs": [
    {
     "name": "stdout",
     "output_type": "stream",
     "text": [
      "/home/evapilotno17/central_dogma/arael2\n"
     ]
    },
    {
     "data": {
      "text/plain": [
       "CompletedProcess(args=['pwd'], returncode=0)"
      ]
     },
     "execution_count": 3,
     "metadata": {},
     "output_type": "execute_result"
    }
   ],
   "source": [
    "subprocess.run([\"pwd\"])"
   ]
  },
  {
   "cell_type": "code",
   "execution_count": null,
   "id": "516a7bc4-155e-4076-b4ca-929369e57a53",
   "metadata": {},
   "outputs": [],
   "source": []
  }
 ],
 "metadata": {
  "kernelspec": {
   "display_name": "Python 3 (ipykernel)",
   "language": "python",
   "name": "python3"
  },
  "language_info": {
   "codemirror_mode": {
    "name": "ipython",
    "version": 3
   },
   "file_extension": ".py",
   "mimetype": "text/x-python",
   "name": "python",
   "nbconvert_exporter": "python",
   "pygments_lexer": "ipython3",
   "version": "3.12.3"
  }
 },
 "nbformat": 4,
 "nbformat_minor": 5
}
