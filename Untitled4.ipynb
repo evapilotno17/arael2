{
 "cells": [
  {
   "cell_type": "code",
   "execution_count": 3,
   "id": "9f2e8be8-c62a-495e-bcf8-39d66f1a0fc0",
   "metadata": {},
   "outputs": [],
   "source": [
    "from keylogger.utils import Utils\n",
    "from pathlib import Path"
   ]
  },
  {
   "cell_type": "code",
   "execution_count": 16,
   "id": "7c50922f-2e2f-413a-8b3e-cc01790e7143",
   "metadata": {},
   "outputs": [],
   "source": [
    "utils = Utils(Path.cwd() / \"keydb\" / \"keys.db\")"
   ]
  },
  {
   "cell_type": "code",
   "execution_count": 17,
   "id": "c309e136-05c4-4843-9f71-5f4a1b36858a",
   "metadata": {},
   "outputs": [
    {
     "data": {
      "text/plain": [
       "Index(['ts_us', 'code', 'os', 'timestamp', 'key'], dtype='object')"
      ]
     },
     "execution_count": 17,
     "metadata": {},
     "output_type": "execute_result"
    }
   ],
   "source": [
    "utils.df.columns"
   ]
  },
  {
   "cell_type": "code",
   "execution_count": 15,
   "id": "5f0b4a25-f242-4713-90b5-22b1cd480020",
   "metadata": {},
   "outputs": [
    {
     "data": {
      "text/plain": [
       "0      2025-05-06 00:26:18.388322\n",
       "1      2025-05-06 00:26:18.699464\n",
       "2      2025-05-06 00:26:19.434498\n",
       "3      2025-05-06 00:26:19.689610\n",
       "4      2025-05-06 00:26:25.761036\n",
       "                  ...            \n",
       "8874   2025-05-14 21:35:21.438766\n",
       "8875   2025-05-14 21:35:22.114578\n",
       "8876   2025-05-14 21:35:22.356086\n",
       "8877   2025-05-14 21:35:24.880126\n",
       "8878   2025-05-14 21:35:25.108051\n",
       "Name: timestamp, Length: 8879, dtype: datetime64[ns]"
      ]
     },
     "execution_count": 15,
     "metadata": {},
     "output_type": "execute_result"
    }
   ],
   "source": [
    "utils.df['timestamp']"
   ]
  },
  {
   "cell_type": "code",
   "execution_count": null,
   "id": "7ce8430a-eb8c-4ac6-b82e-913952e241f7",
   "metadata": {},
   "outputs": [],
   "source": []
  }
 ],
 "metadata": {
  "kernelspec": {
   "display_name": "Python 3 (ipykernel)",
   "language": "python",
   "name": "python3"
  },
  "language_info": {
   "codemirror_mode": {
    "name": "ipython",
    "version": 3
   },
   "file_extension": ".py",
   "mimetype": "text/x-python",
   "name": "python",
   "nbconvert_exporter": "python",
   "pygments_lexer": "ipython3",
   "version": "3.12.3"
  }
 },
 "nbformat": 4,
 "nbformat_minor": 5
}
