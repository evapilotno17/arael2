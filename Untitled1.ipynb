{
 "cells": [
  {
   "cell_type": "code",
   "execution_count": 1,
   "id": "7e2fe062-46d9-4ef2-bbcc-deaae86f2cd1",
   "metadata": {},
   "outputs": [
    {
     "name": "stdout",
     "output_type": "stream",
     "text": [
      "keydb  macos\t\tUntitled.ipynb\tvomitignore.txt\n",
      "linux  Untitled1.ipynb\tvenv\t\tvomit.txt\n"
     ]
    }
   ],
   "source": [
    "!ls"
   ]
  },
  {
   "cell_type": "code",
   "execution_count": null,
   "id": "a0e89efe-677e-42f4-b4cf-ba9aac9bfc04",
   "metadata": {},
   "outputs": [
    {
     "name": "stdout",
     "output_type": "stream",
     "text": [
      "[sudo] password for evapilotno17: "
     ]
    }
   ],
   "source": [
    "!sudo cd keydb"
   ]
  },
  {
   "cell_type": "code",
   "execution_count": null,
   "id": "623b9f16-1602-4a32-a8de-8e0fa7fdb488",
   "metadata": {},
   "outputs": [],
   "source": [
    "!bluebeard_39"
   ]
  },
  {
   "cell_type": "code",
   "execution_count": null,
   "id": "7265fa14-c424-4537-a7a2-5a537e77ee50",
   "metadata": {},
   "outputs": [],
   "source": []
  }
 ],
 "metadata": {
  "kernelspec": {
   "display_name": "Python 3 (ipykernel)",
   "language": "python",
   "name": "python3"
  },
  "language_info": {
   "codemirror_mode": {
    "name": "ipython",
    "version": 3
   },
   "file_extension": ".py",
   "mimetype": "text/x-python",
   "name": "python",
   "nbconvert_exporter": "python",
   "pygments_lexer": "ipython3",
   "version": "3.12.3"
  }
 },
 "nbformat": 4,
 "nbformat_minor": 5
}
